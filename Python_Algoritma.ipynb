{
  "nbformat": 4,
  "nbformat_minor": 0,
  "metadata": {
    "colab": {
      "name": "Python-Algoritma.ipynb",
      "provenance": [],
      "collapsed_sections": []
    },
    "kernelspec": {
      "name": "python3",
      "display_name": "Python 3"
    },
    "language_info": {
      "name": "python"
    }
  },
  "cells": [
    {
      "cell_type": "code",
      "metadata": {
        "id": "T-y3AXtPHNLs"
      },
      "source": [
        "1. SORU\n",
        "\n",
        "\n",
        "==================================================================================================\n",
        "\n",
        "\n",
        "import math\n",
        "# a , b , c koklerinin alinmasi\n",
        "a = int(input (\"a : \"))\n",
        "b = int(input (\"b : \"))\n",
        "c = int(input (\"c : \"))\n",
        "\n",
        "# deltanin hesaplanmasi ( delta=b^2-4ac )\n",
        "# delta > 0 => iki reel kok\n",
        "# delta = 0 => x1=x2 => formul = (-b/4ac)\n",
        "# delta < 0 => reel kok yok\n",
        "delta = (b**2) - (4*a*c)\n",
        "\n",
        "def RootsOf(a,b,c):\n",
        "# koklerin (x0,x1) bulunmasi\n",
        "# x0 = ((-b)+kokdelta) / 2a\n",
        "# x1 = ((-b)-kokdelta) / 2a\n",
        "  if delta>0:\n",
        "    x0 = (-b + math.sqrt(delta))/(2*a)\n",
        "    x1 = (-b - math.sqrt(delta))/(2*a)\n",
        "    print(\"2 reel kok vardir: {} ve {} \".format(x0,x1))\n",
        "  elif delta==0:\n",
        "    x0 = -b/(2*a)\n",
        "    print(\"Cakisik kok vardir : {}\".format(x0))\n",
        "  else:\n",
        "    print(\"Denklemin reel koku yoktur.\")\n",
        "RootsOf(a,b,c)\n",
        "\n",
        "#=================================================================================\n",
        "\n"
      ],
      "execution_count": null,
      "outputs": []
    },
    {
      "cell_type": "code",
      "metadata": {
        "id": "AdEo-E0aHZ38"
      },
      "source": [
        "2. SORU\n",
        "\n",
        "#=================================================================================\n",
        "\n",
        "# katsayilarin (kx1,kx2,ky1,ky1) ve sonuclarin (r1,r2) alinmasi\n",
        "kx1 = int(input (\"X 1. katsayi : \"))\n",
        "kx2 = int(input (\"X 2. katsayi : \"))\n",
        "ky1 = int(input (\"Y 1. katsayi : \"))\n",
        "ky2 = int(input (\"Y 2. katsayi : \"))\n",
        "r1 = int(input (\"1. Denklemin sonucu : \"))\n",
        "r2 = int(input (\"2. Denklemin sonucu : \"))\n",
        "\n",
        "# Elimizdeki denklemler [(kx1)*x + (ky1)*y = r1] ve [(kx2)*x + (ky2)*y = r2] \n",
        "# Iki denklem icin de Y'leri yalniz biraktik\n",
        "# y = ( (r1) - (kx1)*(x) ) / (ky1)  VE   y = ( (r2) - (kx2)*(x) ) / (ky2)\n",
        "# Bu iki denklemin sonucu da Y oldugu icin birbirine esitledik\n",
        "# ( (r1) - (kx1)*(x) ) / (ky1) = ( (r2) - (kx2)*(x) ) / (ky2)\n",
        "# Daha sonra pay ve paydalari caprazlayarak carptik\n",
        "# ( (ky1)*(r2) ) - ( (ky1)*(kx2)* x ) = ( (ky2)*(r1) ) - ( (ky2) * (kx1) * x )\n",
        "# X'leri bir esitligin bir tarafinda topladik\n",
        "# x * ( ((ky2)*(kx1)) - ((ky1)*(kx2)) ) = ( (ky2)*(r1) ) - ((ky1) * (r2))\n",
        "# X'i yalniz birakarak fonksiyonda kullanacagim denklemi elde ettik\n",
        "# x = ( (ky2)*(r1) ) - ((ky1) * (r2)) / ( ((ky2)*(kx1)) - ((ky1)*(kx2)) )\n",
        "\n",
        "def SolveTwoVariables(kx1,kx2,ky1,ky2,r1,r2):\n",
        "\n",
        "  x = ( ( (ky2)*(r1) ) -  ( (ky1)*(r2) ) ) / ( ( (ky2)*(kx1) ) - ( (ky1)*(kx2) ) )\n",
        "  print(\"X degeri : \",x)\n",
        "  y = ((r1) - ((kx1)*x)) / (ky1) # Aciklamadaki 3. satirda yazmis oldugum denklemi kullandik\n",
        "  print(\"Y deger' :\",y)\n",
        "SolveTwoVariables(kx1,kx2,ky1,ky2,r1,r2)\n",
        "\n",
        "#==================================================================================================================\n",
        "\n"
      ],
      "execution_count": null,
      "outputs": []
    },
    {
      "cell_type": "code",
      "metadata": {
        "id": "yymhY7FQHb9j"
      },
      "source": [
        "3. SORU\n",
        "\n",
        "#==================================================================================================================\n",
        "\n",
        "DecToroman = { 1: 'I', 4: 'IV', 5: 'V', 9: 'IX', 10: 'X', 40: 'XL',\n",
        "              50: 'L', 90: 'XC', 100: 'C', 400: 'XD', 500: 'D', 900: 'CM', 1000: 'M'} # Verileri verdik\n",
        "sayi = int(input(\"Bir sayi giriniz: \")) #Kullanicidan sayi isteme\n",
        "\n",
        "#Buyukten kucuge siralama \n",
        "siralama = [1000, 900, 500, 400, 100, 90, 50, 40, 10, 9, 5, 4, 1]\n",
        "\n",
        "if sayi == 0: #Girilen sayi 0 ise roma rakami karsiligi yok.\n",
        "  print(\"Gecersiz sayi\")\n",
        "\n",
        "#Bölme 0'dan farkli bir sayiya esit ise o zaman bu, bölenin roma karsiliginin sonuçtaki roma sayısını oluşturduğu anlamına gelir.\n",
        "#Bölenin Roma eşdeğerini bölüm değerinden cikan rakam kadar katini aldik.\n",
        "#Giris tamsayi degerini bolumun geri kalanina guncelledik.\n",
        "\n",
        "\n",
        "for x in siralama:\n",
        "    if sayi != 0: \n",
        "        bolum= sayi//x    #// tam bolme operatoru\n",
        "\n",
        "       \n",
        "        if bolum != 0:\n",
        "            for y in range(bolum):\n",
        "                print(\"Girdiginiz sayinin roma rakami karsiligi : \",DecToroman[x])\n",
        "\n",
        "        \n",
        "        sayi = sayi%x #Bölen olarak 13 temel roma rakamının tümü için yukarıdaki adımları tekrarladik"
      ],
      "execution_count": null,
      "outputs": []
    },
    {
      "cell_type": "code",
      "metadata": {
        "id": "kRqjYLksH5hH"
      },
      "source": [
        "4. SORU\n",
        "# x ussu y\n",
        "x=int(input(\"Sayiyi giriniz: \"))\n",
        "y=int(input(\"Ussu giriniz: \"))\n",
        "def Power(x,y):\n",
        "    sonuc=1\n",
        "    for i in range(y):\n",
        "        sonuc = (sonuc) * (x)\n",
        "    return sonuc\n",
        " \n",
        "print (x,\" ussu \",y,\"=\",Power(x,y))\n",
        "\n",
        "CIKTI : \n",
        "Sayiyi giriniz: 2 \n",
        "\n",
        "Ussu giriniz: 2 \n",
        "\n",
        "2 ussu 2 = 4\n",
        "#=================================================================================================================\n",
        "\n",
        "\n",
        "\n"
      ],
      "execution_count": null,
      "outputs": []
    },
    {
      "cell_type": "code",
      "metadata": {
        "id": "hQ71aUomH9f8"
      },
      "source": [
        "#=================================================================================================================\n",
        "\n",
        "5. SORU\n",
        "\n",
        "dizi = [17,5,42,65,11,8,23] \n",
        "\n",
        "#5. elemani sakla (yeni bir degiskene ata)\n",
        "besinci = dizi [4]\n",
        "#5. elemanin oldugu yere(sirasi) na 1. elemani koy\n",
        "dizi [4] = dizi [0]\n",
        "dizi [0] = besinci\n",
        "print(dizi)\n",
        "\n",
        "CIKTI:\n",
        "[5, 2, 3, 4, 1]\n",
        "#=================================================================================================================\n",
        "\n",
        "\n",
        "\n"
      ],
      "execution_count": null,
      "outputs": []
    },
    {
      "cell_type": "code",
      "metadata": {
        "id": "XarnfzP5IADo"
      },
      "source": [
        "#=================================================================================================================\n",
        "6. SORU\n",
        "\n",
        "\n",
        "x=int(input(\"1.indis: \"))\n",
        "y=int(input(\"2. indis: \"))\n",
        "dizi = [17,5,42,65,11,8,23] \n",
        "def Swap(dizi,x,y):\n",
        "  yertutucu = dizi [x]\n",
        "  dizi [x] = dizi [y]\n",
        "  dizi [y] = yertutucu\n",
        "Swap(dizi,x,y)\n",
        "print(dizi)\n",
        "\n",
        "CIKTI:\n",
        "1.indis: 0\n",
        "2. indis: 1\n",
        "[2, 1, 3, 4, 5]\n",
        "5. SORU\n",
        "dizi = [17,5,42,65,11,8,23] \n",
        "def BubbleSort(dizi):\n",
        "  for i in range( len(dizi)-1 ): #uzunluktan 1 eksik sayi kadar islem yapar cunku bir elemani elde tutup karsilastirma yaptigimiz icin karsilactirilacak eleman sayisi uzunluk-1 kadardir\n",
        "    for j in range(0, len(dizi)-i-1): #bir sonraki turda 1 tane daha eksik gitmesi icin\n",
        "      if dizi [j] > dizi [j+1]: #Karsilastirmada buyuk cikarsa bir ileri indise tasir\n",
        "        yertutucu = dizi [j+1] #3. ve 4. soruda kullandigim yontemle yer degistirdik\n",
        "        dizi [j+1] = dizi [j]\n",
        "        dizi [j] = yertutucu\n",
        "BubbleSort(dizi)\n",
        "print(dizi)\n",
        "\n",
        "CIKTI:\n",
        "[5, 8, 11, 17, 23, 42, 65]\n",
        "#================================================================================================================="
      ],
      "execution_count": null,
      "outputs": []
    },
    {
      "cell_type": "code",
      "metadata": {
        "id": "HMfMBPIRIIDU"
      },
      "source": [
        "#=================================================================================================================\n",
        "7. SORU\n",
        "i=0\n",
        "top=0\n",
        "sayi=int(input())\n",
        "while(sayi>=2):\n",
        "  top=top+((sayi%2)*(10**i))\n",
        "  sayi=int(sayi/2)\n",
        "  i +=1\n",
        "top=top+(sayi*(10**i))\n",
        "print(top)\n",
        "#=================================================================================================================\n",
        "\n"
      ],
      "execution_count": null,
      "outputs": []
    },
    {
      "cell_type": "code",
      "metadata": {
        "id": "4Iv_8zdAIOng"
      },
      "source": [
        "#=================================================================================================================\n",
        "8. SORU\n",
        "\n",
        "\n",
        "sayi=8\n",
        "adet=4\n",
        "while (True):\n",
        "  sayi +=1\n",
        "  if(sayi<100):\n",
        "      if(sayi%2==0):\n",
        "        sayi+=1\n",
        "      \n",
        "      elif(sayi%3==0):\n",
        "        sayi+=1\n",
        "      \n",
        "      elif(sayi%5==0):\n",
        "        sayi+=1\n",
        "      \n",
        "      elif(sayi%7==0):\n",
        "        sayi+=1\n",
        "      \n",
        "  else:\n",
        "    adet+=1\n",
        "print(adet)\n",
        "#=================================================================================================================\n",
        "\n"
      ],
      "execution_count": null,
      "outputs": []
    },
    {
      "cell_type": "code",
      "metadata": {
        "id": "NNthir8lIQU2"
      },
      "source": [
        "#=================================================================================================================\n",
        "\n",
        "9. SORU\n",
        "\n",
        "t=1\n",
        "f=1\n",
        "i=1\n",
        "x=int(input())\n",
        "n=int(input())\n",
        "if (n+1==i):\n",
        "  f=f*i\n",
        "  t=t+(x**i)/f\n",
        "  i+=1\n",
        "print(t)\n",
        "#================================================================================================================="
      ],
      "execution_count": null,
      "outputs": []
    }
  ]
}